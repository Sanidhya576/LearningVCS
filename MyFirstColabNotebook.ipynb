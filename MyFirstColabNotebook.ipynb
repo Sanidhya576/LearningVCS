{
  "nbformat": 4,
  "nbformat_minor": 0,
  "metadata": {
    "colab": {
      "name": "MyFirstColabNotebook.ipynb",
      "provenance": [],
      "authorship_tag": "ABX9TyOsUAOOYaOkUK1w2u1o/xAg",
      "include_colab_link": true
    },
    "kernelspec": {
      "name": "python3",
      "display_name": "Python 3"
    },
    "language_info": {
      "name": "python"
    }
  },
  "cells": [
    {
      "cell_type": "markdown",
      "metadata": {
        "id": "view-in-github",
        "colab_type": "text"
      },
      "source": [
        "<a href=\"https://colab.research.google.com/github/Sanidhya576/LearningVCS/blob/master/MyFirstColabNotebook.ipynb\" target=\"_parent\"><img src=\"https://colab.research.google.com/assets/colab-badge.svg\" alt=\"Open In Colab\"/></a>"
      ]
    },
    {
      "cell_type": "code",
      "metadata": {
        "colab": {
          "base_uri": "https://localhost:8080/"
        },
        "id": "ALYNKb9zzyUc",
        "outputId": "6e847b11-8401-44f2-8454-3a34378cd098"
      },
      "source": [
        "time.sleep(5)\n",
        "print( time.ctime())"
      ],
      "execution_count": null,
      "outputs": [
        {
          "output_type": "stream",
          "text": [
            "Wed Jul 28 15:54:37 2021\n"
          ],
          "name": "stdout"
        }
      ]
    },
    {
      "cell_type": "code",
      "metadata": {
        "id": "7Cm5EIXS1XTF"
      },
      "source": [
        ""
      ],
      "execution_count": null,
      "outputs": []
    },
    {
      "cell_type": "markdown",
      "metadata": {
        "id": "6YKH86eB1Xkv"
      },
      "source": [
        "This is **bold**.\n",
        "This is *italic*.\n",
        "This is ~strikethrough~"
      ]
    },
    {
      "cell_type": "markdown",
      "metadata": {
        "id": "LOqLluJo125_"
      },
      "source": [
        "$\\sqrt{3x-1}+(1+x)^2$\n"
      ]
    },
    {
      "cell_type": "markdown",
      "metadata": {
        "id": "xmOcHCeU2Z4b"
      },
      "source": [
        "$e^x=\\sum_{i=0}^\\infty \\frac{1}{i!}x^i$\n"
      ]
    },
    {
      "cell_type": "markdown",
      "metadata": {
        "id": "0Wp3ye0222PZ"
      },
      "source": [
        "Constraints are  \n",
        " - $3x_1 + 6x_2 + x_3 =< 28$ \n",
        " - $7x_1 + 3x_2 + 2x_3 =< 37$ \n",
        " - $4x_1 + 5x_2 + 2x_3 =< 19$  \n",
        " - $x_1,x_2,x_3 >=0 $ \n",
        "The trial vector is calculated as follows: \n",
        "- $u_i(t) = x_i(t) + \\beta(\\hat{x}(t) − x_i(t)) + \\beta \\sum_{k = 1}^{n  _v}(x_{i1,k}(t) − x_{i2,k}(t))$ \n",
        "\n"
      ]
    },
    {
      "cell_type": "markdown",
      "metadata": {
        "id": "468GeeDl3SNP"
      },
      "source": [
        "$f(x_1, x_2) = 20 + e - 20exp(-0.2 \\sqrt {\\frac {1}{n} (x_1^2 + x_2^2)}) - exp  (\\frac {1}{n}(cos(2\\pi x_1) + cos(2\\pi x_2))$ \n",
        "$x ∈ [-5, 5]$ \n",
        ">$A_{m,n} = \n",
        "\\begin{pmatrix} \n",
        " a_{1,1} & a_{1,2} & \\cdots & a_{1,n} \\\\ \n",
        " a_{2,1} & a_{2,2} & \\cdots & a_{2,n} \\\\ \n",
        " \\vdots & \\vdots & \\ddots & \\vdots \\\\ \n",
        " a_{m,1} & a_{m,2} & \\cdots & a_{m,n} \n",
        "\\end{pmatrix}$\n",
        "\n"
      ]
    },
    {
      "cell_type": "code",
      "metadata": {
        "colab": {
          "base_uri": "https://localhost:8080/"
        },
        "id": "sIir_oX4ycj7",
        "outputId": "ce76d125-14d3-4a32-f3f1-34a58c4eb1ae"
      },
      "source": [
        "import time\n",
        "print(time.ctime())"
      ],
      "execution_count": null,
      "outputs": [
        {
          "output_type": "stream",
          "text": [
            "Wed Jul 28 15:54:23 2021\n"
          ],
          "name": "stdout"
        }
      ]
    }
  ]
}